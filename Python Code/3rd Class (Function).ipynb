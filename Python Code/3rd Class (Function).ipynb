{
 "cells": [
  {
   "cell_type": "markdown",
   "id": "d9c355f9",
   "metadata": {},
   "source": [
    "# Function"
   ]
  },
  {
   "cell_type": "code",
   "execution_count": 1,
   "id": "99590a66",
   "metadata": {},
   "outputs": [
    {
     "name": "stdout",
     "output_type": "stream",
     "text": [
      "30 found\n"
     ]
    }
   ],
   "source": [
    "l = [10,20,30,40]\n",
    "n =30\n",
    "for i in l:\n",
    "    if i == n:\n",
    "        print(\"{} found\".format(n))\n",
    "        break\n",
    "else:\n",
    "    print(\"{} not found\".format(n))"
   ]
  },
  {
   "cell_type": "code",
   "execution_count": 2,
   "id": "fa408e89",
   "metadata": {},
   "outputs": [
    {
     "name": "stdout",
     "output_type": "stream",
     "text": [
      "50 not found\n"
     ]
    }
   ],
   "source": [
    "def number_search(n):\n",
    "    l = [10,20,30,40]\n",
    "    for i in l:\n",
    "       if i == n:\n",
    "             print(\"{} found\".format(n))\n",
    "             break\n",
    "    else:\n",
    "         print(\"{} not found\".format(n))\n",
    "    \n",
    "    \n",
    "number_search(50)\n",
    "    "
   ]
  },
  {
   "cell_type": "code",
   "execution_count": 3,
   "id": "32f93e6d",
   "metadata": {},
   "outputs": [
    {
     "name": "stdout",
     "output_type": "stream",
     "text": [
      "30\n"
     ]
    }
   ],
   "source": [
    "def add(a,b):\n",
    "    print(a+b)\n",
    "    \n",
    "add(10,20)"
   ]
  },
  {
   "cell_type": "code",
   "execution_count": 4,
   "id": "23293c2e",
   "metadata": {},
   "outputs": [
    {
     "name": "stdout",
     "output_type": "stream",
     "text": [
      "700\n"
     ]
    }
   ],
   "source": [
    "def add():\n",
    "    x = 400\n",
    "    y = 300\n",
    "    print(x+y)\n",
    "    \n",
    "add()"
   ]
  },
  {
   "cell_type": "code",
   "execution_count": 5,
   "id": "0a2860f2",
   "metadata": {},
   "outputs": [
    {
     "name": "stdout",
     "output_type": "stream",
     "text": [
      "30\n"
     ]
    },
    {
     "ename": "TypeError",
     "evalue": "unsupported operand type(s) for *: 'NoneType' and 'int'",
     "output_type": "error",
     "traceback": [
      "\u001b[1;31m---------------------------------------------------------------------------\u001b[0m",
      "\u001b[1;31mTypeError\u001b[0m                                 Traceback (most recent call last)",
      "\u001b[1;32m<ipython-input-5-7af2282365b6>\u001b[0m in \u001b[0;36m<module>\u001b[1;34m\u001b[0m\n\u001b[0;32m      2\u001b[0m     \u001b[0mprint\u001b[0m\u001b[1;33m(\u001b[0m\u001b[0mx\u001b[0m\u001b[1;33m+\u001b[0m\u001b[0my\u001b[0m\u001b[1;33m)\u001b[0m\u001b[1;33m\u001b[0m\u001b[1;33m\u001b[0m\u001b[0m\n\u001b[0;32m      3\u001b[0m \u001b[1;33m\u001b[0m\u001b[0m\n\u001b[1;32m----> 4\u001b[1;33m \u001b[0madd\u001b[0m\u001b[1;33m(\u001b[0m\u001b[1;36m10\u001b[0m\u001b[1;33m,\u001b[0m\u001b[1;36m20\u001b[0m\u001b[1;33m)\u001b[0m\u001b[1;33m*\u001b[0m\u001b[1;36m2\u001b[0m\u001b[1;33m\u001b[0m\u001b[1;33m\u001b[0m\u001b[0m\n\u001b[0m",
      "\u001b[1;31mTypeError\u001b[0m: unsupported operand type(s) for *: 'NoneType' and 'int'"
     ]
    }
   ],
   "source": [
    "def add(x,y):\n",
    "    print(x+y)\n",
    "    \n",
    "add(10,20)*2"
   ]
  },
  {
   "cell_type": "code",
   "execution_count": 6,
   "id": "2c202efa",
   "metadata": {},
   "outputs": [],
   "source": [
    "def get_number(a):\n",
    "    return a"
   ]
  },
  {
   "cell_type": "code",
   "execution_count": 7,
   "id": "d74c3939",
   "metadata": {},
   "outputs": [
    {
     "data": {
      "text/plain": [
       "200"
      ]
     },
     "execution_count": 7,
     "metadata": {},
     "output_type": "execute_result"
    }
   ],
   "source": [
    "get_number(100)*2"
   ]
  },
  {
   "cell_type": "code",
   "execution_count": 8,
   "id": "04a9d93d",
   "metadata": {},
   "outputs": [],
   "source": [
    "res = get_number(100)"
   ]
  },
  {
   "cell_type": "code",
   "execution_count": 9,
   "id": "8b9a7ad1",
   "metadata": {},
   "outputs": [
    {
     "data": {
      "text/plain": [
       "50.0"
      ]
     },
     "execution_count": 9,
     "metadata": {},
     "output_type": "execute_result"
    }
   ],
   "source": [
    "res/2"
   ]
  },
  {
   "cell_type": "code",
   "execution_count": 10,
   "id": "ffbe0a14",
   "metadata": {},
   "outputs": [
    {
     "data": {
      "text/plain": [
       "(10, 20, 30)"
      ]
     },
     "execution_count": 10,
     "metadata": {},
     "output_type": "execute_result"
    }
   ],
   "source": [
    "def get_number(a,b,c):\n",
    "    return a,b,c\n",
    "\n",
    "get_number(10,20,30)"
   ]
  },
  {
   "cell_type": "code",
   "execution_count": 11,
   "id": "dd95aa68",
   "metadata": {},
   "outputs": [],
   "source": [
    "x, y, z = get_number(10,20,30)"
   ]
  },
  {
   "cell_type": "code",
   "execution_count": 12,
   "id": "5ebadf84",
   "metadata": {},
   "outputs": [
    {
     "data": {
      "text/plain": [
       "10"
      ]
     },
     "execution_count": 12,
     "metadata": {},
     "output_type": "execute_result"
    }
   ],
   "source": [
    "x"
   ]
  },
  {
   "cell_type": "code",
   "execution_count": 13,
   "id": "d5e1952f",
   "metadata": {},
   "outputs": [
    {
     "data": {
      "text/plain": [
       "20"
      ]
     },
     "execution_count": 13,
     "metadata": {},
     "output_type": "execute_result"
    }
   ],
   "source": [
    "y"
   ]
  },
  {
   "cell_type": "code",
   "execution_count": 14,
   "id": "61b01400",
   "metadata": {},
   "outputs": [
    {
     "data": {
      "text/plain": [
       "30"
      ]
     },
     "execution_count": 14,
     "metadata": {},
     "output_type": "execute_result"
    }
   ],
   "source": [
    "z"
   ]
  },
  {
   "cell_type": "code",
   "execution_count": 15,
   "id": "a89e1be7",
   "metadata": {},
   "outputs": [
    {
     "name": "stdout",
     "output_type": "stream",
     "text": [
      "10\n",
      "20\n",
      "30\n"
     ]
    }
   ],
   "source": [
    "for i in get_number(10,20,30):\n",
    "    print(i)\n"
   ]
  },
  {
   "cell_type": "code",
   "execution_count": 16,
   "id": "f6a46fe4",
   "metadata": {},
   "outputs": [],
   "source": [
    "x = get_number(10,20,30)"
   ]
  },
  {
   "cell_type": "code",
   "execution_count": 17,
   "id": "554429e8",
   "metadata": {},
   "outputs": [
    {
     "data": {
      "text/plain": [
       "(10, 20, 30)"
      ]
     },
     "execution_count": 17,
     "metadata": {},
     "output_type": "execute_result"
    }
   ],
   "source": [
    "x"
   ]
  },
  {
   "cell_type": "code",
   "execution_count": 18,
   "id": "69f63b42",
   "metadata": {},
   "outputs": [
    {
     "name": "stdout",
     "output_type": "stream",
     "text": [
      "10\n",
      "20\n",
      "30\n"
     ]
    }
   ],
   "source": [
    "x = get_number(10,20,30)\n",
    "\n",
    "for i in x:\n",
    "    print(i)"
   ]
  },
  {
   "cell_type": "code",
   "execution_count": 19,
   "id": "07837d16",
   "metadata": {},
   "outputs": [
    {
     "data": {
      "text/plain": [
       "(0, 2, 4)"
      ]
     },
     "execution_count": 19,
     "metadata": {},
     "output_type": "execute_result"
    }
   ],
   "source": [
    "def get_number_2(a=0,b=2,c=4):\n",
    "    return a,b,c\n",
    "get_number_2()"
   ]
  },
  {
   "cell_type": "code",
   "execution_count": 20,
   "id": "1b24a6b6",
   "metadata": {},
   "outputs": [
    {
     "data": {
      "text/plain": [
       "(50, 60, 70)"
      ]
     },
     "execution_count": 20,
     "metadata": {},
     "output_type": "execute_result"
    }
   ],
   "source": [
    "get_number_2(50,60,70)"
   ]
  },
  {
   "cell_type": "code",
   "execution_count": 21,
   "id": "7b54aaef",
   "metadata": {},
   "outputs": [
    {
     "data": {
      "text/plain": [
       "10"
      ]
     },
     "execution_count": 21,
     "metadata": {},
     "output_type": "execute_result"
    }
   ],
   "source": [
    "def get_collection(number):\n",
    "    return number\n",
    "get_collection(10)"
   ]
  },
  {
   "cell_type": "code",
   "execution_count": 22,
   "id": "c864b302",
   "metadata": {},
   "outputs": [
    {
     "ename": "TypeError",
     "evalue": "get_collection() takes 1 positional argument but 2 were given",
     "output_type": "error",
     "traceback": [
      "\u001b[1;31m---------------------------------------------------------------------------\u001b[0m",
      "\u001b[1;31mTypeError\u001b[0m                                 Traceback (most recent call last)",
      "\u001b[1;32m<ipython-input-22-a9d233385ae8>\u001b[0m in \u001b[0;36m<module>\u001b[1;34m\u001b[0m\n\u001b[0;32m      1\u001b[0m \u001b[1;32mdef\u001b[0m \u001b[0mget_collection\u001b[0m\u001b[1;33m(\u001b[0m\u001b[0mnumber\u001b[0m\u001b[1;33m)\u001b[0m\u001b[1;33m:\u001b[0m\u001b[1;33m\u001b[0m\u001b[1;33m\u001b[0m\u001b[0m\n\u001b[0;32m      2\u001b[0m     \u001b[1;32mreturn\u001b[0m \u001b[0mnumber\u001b[0m\u001b[1;33m\u001b[0m\u001b[1;33m\u001b[0m\u001b[0m\n\u001b[1;32m----> 3\u001b[1;33m \u001b[0mget_collection\u001b[0m\u001b[1;33m(\u001b[0m\u001b[1;36m10\u001b[0m\u001b[1;33m,\u001b[0m\u001b[1;36m20\u001b[0m\u001b[1;33m)\u001b[0m\u001b[1;33m\u001b[0m\u001b[1;33m\u001b[0m\u001b[0m\n\u001b[0m",
      "\u001b[1;31mTypeError\u001b[0m: get_collection() takes 1 positional argument but 2 were given"
     ]
    }
   ],
   "source": [
    "def get_collection(number):\n",
    "    return number\n",
    "get_collection(10,20)"
   ]
  },
  {
   "cell_type": "code",
   "execution_count": 23,
   "id": "96ff23fc",
   "metadata": {},
   "outputs": [
    {
     "data": {
      "text/plain": [
       "(10, 20, 300)"
      ]
     },
     "execution_count": 23,
     "metadata": {},
     "output_type": "execute_result"
    }
   ],
   "source": [
    "def get_collection(*number):\n",
    "    return number\n",
    "get_collection(10,20,300)"
   ]
  },
  {
   "cell_type": "code",
   "execution_count": 24,
   "id": "7d568609",
   "metadata": {},
   "outputs": [
    {
     "data": {
      "text/plain": [
       "[10, 20, 300]"
      ]
     },
     "execution_count": 24,
     "metadata": {},
     "output_type": "execute_result"
    }
   ],
   "source": [
    "def get_collection(*number):\n",
    "    \n",
    "    #type casting\n",
    "    l = list(number)\n",
    "    return l\n",
    "\n",
    "\n",
    "get_collection(10,20,300)"
   ]
  },
  {
   "cell_type": "code",
   "execution_count": 25,
   "id": "df5f961d",
   "metadata": {},
   "outputs": [
    {
     "data": {
      "text/plain": [
       "{'name': 'Raihan', 'dept': 'CSE'}"
      ]
     },
     "execution_count": 25,
     "metadata": {},
     "output_type": "execute_result"
    }
   ],
   "source": [
    "def get_info(**info):\n",
    "    return info\n",
    "\n",
    "get_info(name = \"Raihan\",dept = \"CSE\")"
   ]
  },
  {
   "cell_type": "code",
   "execution_count": 26,
   "id": "09959a94",
   "metadata": {},
   "outputs": [
    {
     "data": {
      "text/plain": [
       "(10, (20, 30), {'name': 'Raihan'})"
      ]
     },
     "execution_count": 26,
     "metadata": {},
     "output_type": "execute_result"
    }
   ],
   "source": [
    "def get_all_values(a, *args, **kwargs):\n",
    "    return a, args, kwargs\n",
    "\n",
    "get_all_values(10, 20, 30, name=\"Raihan\")"
   ]
  },
  {
   "cell_type": "code",
   "execution_count": 27,
   "id": "d3e60980",
   "metadata": {},
   "outputs": [
    {
     "data": {
      "text/plain": [
       "'Inner Function'"
      ]
     },
     "execution_count": 27,
     "metadata": {},
     "output_type": "execute_result"
    }
   ],
   "source": [
    "def function1():\n",
    "    def function2():\n",
    "        return \"Inner Function\"\n",
    "    return function2()\n",
    "\n",
    "# main\n",
    "function1()"
   ]
  },
  {
   "cell_type": "code",
   "execution_count": 28,
   "id": "bcf6aaba",
   "metadata": {},
   "outputs": [
    {
     "name": "stdout",
     "output_type": "stream",
     "text": [
      "Outer function\n"
     ]
    },
    {
     "data": {
      "text/plain": [
       "'Inner Function'"
      ]
     },
     "execution_count": 28,
     "metadata": {},
     "output_type": "execute_result"
    }
   ],
   "source": [
    "def function1():\n",
    "    print(\"Outer function\")\n",
    "    def function2():\n",
    "        return \"Inner Function\"\n",
    "    return function2()\n",
    "\n",
    "# main\n",
    "function1()"
   ]
  },
  {
   "cell_type": "code",
   "execution_count": 29,
   "id": "c63e283c",
   "metadata": {},
   "outputs": [
    {
     "data": {
      "text/plain": [
       "('Outer function', 'Inner Function')"
      ]
     },
     "execution_count": 29,
     "metadata": {},
     "output_type": "execute_result"
    }
   ],
   "source": [
    "def function1():\n",
    "    def function2():\n",
    "        return \"Inner Function\"\n",
    "    return \"Outer function\", function2()\n",
    "\n",
    "# main\n",
    "function1()"
   ]
  },
  {
   "cell_type": "code",
   "execution_count": 30,
   "id": "1d8ce1c7",
   "metadata": {},
   "outputs": [
    {
     "ename": "NameError",
     "evalue": "name 'function2' is not defined",
     "output_type": "error",
     "traceback": [
      "\u001b[1;31m---------------------------------------------------------------------------\u001b[0m",
      "\u001b[1;31mNameError\u001b[0m                                 Traceback (most recent call last)",
      "\u001b[1;32m<ipython-input-30-4a5520a08918>\u001b[0m in \u001b[0;36m<module>\u001b[1;34m\u001b[0m\n\u001b[1;32m----> 1\u001b[1;33m \u001b[0mfunction2\u001b[0m\u001b[1;33m(\u001b[0m\u001b[1;33m)\u001b[0m\u001b[1;33m\u001b[0m\u001b[1;33m\u001b[0m\u001b[0m\n\u001b[0m",
      "\u001b[1;31mNameError\u001b[0m: name 'function2' is not defined"
     ]
    }
   ],
   "source": [
    "function2()"
   ]
  },
  {
   "cell_type": "code",
   "execution_count": 31,
   "id": "d96d9ea5",
   "metadata": {},
   "outputs": [
    {
     "data": {
      "text/plain": [
       "('Outer function', 100)"
      ]
     },
     "execution_count": 31,
     "metadata": {},
     "output_type": "execute_result"
    }
   ],
   "source": [
    "def function1(args):\n",
    "    def function2(args):\n",
    "        return args\n",
    "    return \"Outer function\", function2(args)\n",
    "    \n",
    "    \n",
    "# main\n",
    "function1(100)"
   ]
  },
  {
   "cell_type": "code",
   "execution_count": 32,
   "id": "f12dfd73",
   "metadata": {},
   "outputs": [
    {
     "data": {
      "text/plain": [
       "('Outer function', 200)"
      ]
     },
     "execution_count": 32,
     "metadata": {},
     "output_type": "execute_result"
    }
   ],
   "source": [
    "def function1(number,args):\n",
    "    def function2(args):\n",
    "        return args\n",
    "    res = function2(args)\n",
    "    res = res*number\n",
    "    return \"Outer function\", res\n",
    "    \n",
    "# main\n",
    "function1(10,20)"
   ]
  },
  {
   "cell_type": "code",
   "execution_count": 33,
   "id": "02bcbf1d",
   "metadata": {},
   "outputs": [
    {
     "data": {
      "text/plain": [
       "100"
      ]
     },
     "execution_count": 33,
     "metadata": {},
     "output_type": "execute_result"
    }
   ],
   "source": [
    "def set_function(number):\n",
    "    return number\n",
    "\n",
    "set_function(100)"
   ]
  },
  {
   "cell_type": "code",
   "execution_count": 34,
   "id": "342099a0",
   "metadata": {},
   "outputs": [
    {
     "data": {
      "text/plain": [
       "1000"
      ]
     },
     "execution_count": 34,
     "metadata": {},
     "output_type": "execute_result"
    }
   ],
   "source": [
    "def set_function(number):\n",
    "    return number\n",
    "\n",
    "another_set_function = set_function\n",
    "\n",
    "another_set_function(1000)"
   ]
  },
  {
   "cell_type": "code",
   "execution_count": 35,
   "id": "68491e37",
   "metadata": {},
   "outputs": [],
   "source": [
    "def tour(choice):\n",
    "    \n",
    "    def summer():\n",
    "        return \"Dubai\"\n",
    "    \n",
    "    def winter():\n",
    "        return \"Russhia\"\n",
    "    \n",
    "    def spring():\n",
    "        return \"Bangladesh\"\n",
    "    \n",
    "    if choice == \"summer\":\n",
    "        return summer()\n",
    "    elif choice == \"winter\":\n",
    "        return winter()\n",
    "    elif choice == \"spring\":\n",
    "        return spring()\n",
    "    else:\n",
    "        return \"Please choice any season like 'summer' or 'winter' or 'spring'\""
   ]
  },
  {
   "cell_type": "code",
   "execution_count": 36,
   "id": "6eddcab8",
   "metadata": {},
   "outputs": [
    {
     "data": {
      "text/plain": [
       "'Bangladesh'"
      ]
     },
     "execution_count": 36,
     "metadata": {},
     "output_type": "execute_result"
    }
   ],
   "source": [
    "tour(\"spring\")"
   ]
  },
  {
   "cell_type": "markdown",
   "id": "30b42dc0",
   "metadata": {},
   "source": [
    "# Lambda"
   ]
  },
  {
   "cell_type": "code",
   "execution_count": 37,
   "id": "fefa0783",
   "metadata": {},
   "outputs": [],
   "source": [
    "get_number = lambda number: number"
   ]
  },
  {
   "cell_type": "code",
   "execution_count": 38,
   "id": "60a9ad63",
   "metadata": {},
   "outputs": [
    {
     "data": {
      "text/plain": [
       "100"
      ]
     },
     "execution_count": 38,
     "metadata": {},
     "output_type": "execute_result"
    }
   ],
   "source": [
    "get_number(100)"
   ]
  },
  {
   "cell_type": "code",
   "execution_count": 39,
   "id": "43726b21",
   "metadata": {},
   "outputs": [
    {
     "data": {
      "text/plain": [
       "100"
      ]
     },
     "execution_count": 39,
     "metadata": {},
     "output_type": "execute_result"
    }
   ],
   "source": [
    "def get_num(number):\n",
    "    return number\n",
    "\n",
    "get_num(100)"
   ]
  },
  {
   "cell_type": "code",
   "execution_count": 40,
   "id": "f20cec03",
   "metadata": {},
   "outputs": [],
   "source": [
    "result = lambda x, y: x*y"
   ]
  },
  {
   "cell_type": "code",
   "execution_count": 41,
   "id": "0daf1019",
   "metadata": {},
   "outputs": [
    {
     "data": {
      "text/plain": [
       "100"
      ]
     },
     "execution_count": 41,
     "metadata": {},
     "output_type": "execute_result"
    }
   ],
   "source": [
    "result(10, 10)"
   ]
  },
  {
   "cell_type": "code",
   "execution_count": 42,
   "id": "bb907b36",
   "metadata": {},
   "outputs": [],
   "source": [
    "result = lambda x, y: x*y if x==y else x+y"
   ]
  },
  {
   "cell_type": "code",
   "execution_count": 43,
   "id": "b15da6b5",
   "metadata": {},
   "outputs": [
    {
     "data": {
      "text/plain": [
       "40"
      ]
     },
     "execution_count": 43,
     "metadata": {},
     "output_type": "execute_result"
    }
   ],
   "source": [
    "result(10, 30)"
   ]
  },
  {
   "cell_type": "code",
   "execution_count": 44,
   "id": "e9942491",
   "metadata": {},
   "outputs": [],
   "source": [
    "def result(a, x):\n",
    "    if a==x:\n",
    "        return a*x\n",
    "    else:\n",
    "        return a+x"
   ]
  },
  {
   "cell_type": "code",
   "execution_count": 45,
   "id": "116b2d7f",
   "metadata": {},
   "outputs": [
    {
     "data": {
      "text/plain": [
       "120"
      ]
     },
     "execution_count": 45,
     "metadata": {},
     "output_type": "execute_result"
    }
   ],
   "source": [
    "result(100,20)"
   ]
  },
  {
   "cell_type": "code",
   "execution_count": null,
   "id": "fe6add76",
   "metadata": {},
   "outputs": [],
   "source": []
  }
 ],
 "metadata": {
  "kernelspec": {
   "display_name": "Python 3",
   "language": "python",
   "name": "python3"
  },
  "language_info": {
   "codemirror_mode": {
    "name": "ipython",
    "version": 3
   },
   "file_extension": ".py",
   "mimetype": "text/x-python",
   "name": "python",
   "nbconvert_exporter": "python",
   "pygments_lexer": "ipython3",
   "version": "3.8.8"
  }
 },
 "nbformat": 4,
 "nbformat_minor": 5
}
