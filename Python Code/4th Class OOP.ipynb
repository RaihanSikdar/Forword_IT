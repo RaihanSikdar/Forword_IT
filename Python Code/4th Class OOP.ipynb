{
 "cells": [
  {
   "cell_type": "code",
   "execution_count": 1,
   "id": "d064fef2",
   "metadata": {},
   "outputs": [],
   "source": [
    "### Class -> object blue print\n",
    "class Student:\n",
    "    # attr(variable/scope/instance), functions(custom, builtin)\n",
    "    # attr\n",
    "    stuname = \"\"\n",
    "    studept = \"\"\n",
    "    \n",
    "    # function\n",
    "    # Constructor\n",
    "    def __init__(self):\n",
    "        pass\n",
    "    \n",
    "    def getstuname(self):\n",
    "        return self.stuname\n",
    "    \n",
    "    def getstudept(self):\n",
    "        return self.studept\n",
    "    \n",
    "    def __str__(self):\n",
    "        return self.stuname+\" \"+self.studept"
   ]
  },
  {
   "cell_type": "code",
   "execution_count": 2,
   "id": "77023cc4",
   "metadata": {},
   "outputs": [],
   "source": [
    "# how to create an object\n",
    "student = Student()"
   ]
  },
  {
   "cell_type": "code",
   "execution_count": 3,
   "id": "b8ce5e8c",
   "metadata": {},
   "outputs": [],
   "source": [
    "student.stuname = \"Tamim shikder\""
   ]
  },
  {
   "cell_type": "code",
   "execution_count": 4,
   "id": "7b3add69",
   "metadata": {},
   "outputs": [
    {
     "data": {
      "text/plain": [
       "'Tamim shikder'"
      ]
     },
     "execution_count": 4,
     "metadata": {},
     "output_type": "execute_result"
    }
   ],
   "source": [
    "student.stuname"
   ]
  },
  {
   "cell_type": "code",
   "execution_count": 5,
   "id": "fdbb26ba",
   "metadata": {},
   "outputs": [],
   "source": [
    "student.studept=\"CSE\""
   ]
  },
  {
   "cell_type": "code",
   "execution_count": 6,
   "id": "c8045a18",
   "metadata": {},
   "outputs": [
    {
     "data": {
      "text/plain": [
       "'CSE'"
      ]
     },
     "execution_count": 6,
     "metadata": {},
     "output_type": "execute_result"
    }
   ],
   "source": [
    "student.studept"
   ]
  },
  {
   "cell_type": "code",
   "execution_count": 7,
   "id": "f570a46c",
   "metadata": {},
   "outputs": [
    {
     "data": {
      "text/plain": [
       "'Tamim shikder'"
      ]
     },
     "execution_count": 7,
     "metadata": {},
     "output_type": "execute_result"
    }
   ],
   "source": [
    "student.getstuname()"
   ]
  },
  {
   "cell_type": "code",
   "execution_count": 8,
   "id": "14a92699",
   "metadata": {},
   "outputs": [
    {
     "data": {
      "text/plain": [
       "'CSE'"
      ]
     },
     "execution_count": 8,
     "metadata": {},
     "output_type": "execute_result"
    }
   ],
   "source": [
    "student.getstudept()"
   ]
  },
  {
   "cell_type": "code",
   "execution_count": 9,
   "id": "6a8a62bd",
   "metadata": {},
   "outputs": [
    {
     "name": "stdout",
     "output_type": "stream",
     "text": [
      "Tamim shikder CSE\n"
     ]
    }
   ],
   "source": [
    "print(student)"
   ]
  },
  {
   "cell_type": "code",
   "execution_count": null,
   "id": "b89cf2ab",
   "metadata": {},
   "outputs": [],
   "source": []
  }
 ],
 "metadata": {
  "kernelspec": {
   "display_name": "Python 3",
   "language": "python",
   "name": "python3"
  },
  "language_info": {
   "codemirror_mode": {
    "name": "ipython",
    "version": 3
   },
   "file_extension": ".py",
   "mimetype": "text/x-python",
   "name": "python",
   "nbconvert_exporter": "python",
   "pygments_lexer": "ipython3",
   "version": "3.8.8"
  }
 },
 "nbformat": 4,
 "nbformat_minor": 5
}
