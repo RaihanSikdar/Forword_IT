{
 "cells": [
  {
   "cell_type": "markdown",
   "id": "3efe1b7e",
   "metadata": {},
   "source": [
    "# Exception Handling"
   ]
  },
  {
   "cell_type": "code",
   "execution_count": 1,
   "id": "409af15d",
   "metadata": {},
   "outputs": [
    {
     "data": {
      "text/plain": [
       "10.0"
      ]
     },
     "execution_count": 1,
     "metadata": {},
     "output_type": "execute_result"
    }
   ],
   "source": [
    "100/10"
   ]
  },
  {
   "cell_type": "code",
   "execution_count": 6,
   "id": "d50995c6",
   "metadata": {},
   "outputs": [
    {
     "name": "stdout",
     "output_type": "stream",
     "text": [
      "0\n",
      "division by zero Please egnore 0\n"
     ]
    }
   ],
   "source": [
    "try:\n",
    "    num = int(input())\n",
    "    print(100/num)\n",
    "except Exception as e:\n",
    "    print(e,\"Please egnore 0\")"
   ]
  },
  {
   "cell_type": "code",
   "execution_count": 4,
   "id": "46912613",
   "metadata": {},
   "outputs": [
    {
     "name": "stdout",
     "output_type": "stream",
     "text": [
      "0\n",
      "division by zero\n"
     ]
    }
   ],
   "source": [
    "try:\n",
    "    num = int(input())\n",
    "    print(100/num)\n",
    "except ValueError as e:\n",
    "    print(e)\n",
    "except ZeroDivisionError as e:\n",
    "    print(e)\n",
    "except SyntaxError as e:\n",
    "    print(e)\n",
    "except KeyError as e:\n",
    "    print(e)\n",
    "except Exception as e:\n",
    "    print(e)"
   ]
  },
  {
   "cell_type": "code",
   "execution_count": 9,
   "id": "91ffb053",
   "metadata": {},
   "outputs": [
    {
     "name": "stdout",
     "output_type": "stream",
     "text": [
      "0\n",
      "division by zero\n",
      "we did it\n"
     ]
    }
   ],
   "source": [
    "try:\n",
    "    num = int(input())\n",
    "    print(100/num)\n",
    "except Exception as e:\n",
    "    print(e)\n",
    "finally:\n",
    "    print(\"we did it\")"
   ]
  },
  {
   "cell_type": "code",
   "execution_count": 10,
   "id": "93020b5a",
   "metadata": {},
   "outputs": [
    {
     "name": "stdout",
     "output_type": "stream",
     "text": [
      "10\n",
      "10.0\n",
      "we did it\n"
     ]
    }
   ],
   "source": [
    "try:\n",
    "    num = int(input())\n",
    "    print(100/num)\n",
    "except Exception as e:\n",
    "    print(e)\n",
    "finally:\n",
    "    print(\"we did it\")"
   ]
  },
  {
   "cell_type": "code",
   "execution_count": 11,
   "id": "9bb351ff",
   "metadata": {},
   "outputs": [],
   "source": [
    "def function(num):\n",
    "    try:\n",
    "        return (100/num)\n",
    "    except ValueError as e:\n",
    "        print(e)\n",
    "    except ZeroDivisionError as e:\n",
    "        print(e)\n",
    "    except SyntaxError as e:\n",
    "        print(e)\n",
    "    except KeyError as e:\n",
    "        print(e)\n",
    "    except Exception as e:\n",
    "        print(e)"
   ]
  },
  {
   "cell_type": "code",
   "execution_count": 12,
   "id": "149cbbef",
   "metadata": {},
   "outputs": [
    {
     "name": "stdout",
     "output_type": "stream",
     "text": [
      "division by zero\n"
     ]
    }
   ],
   "source": [
    "function(0)"
   ]
  },
  {
   "cell_type": "code",
   "execution_count": 13,
   "id": "91e1f635",
   "metadata": {},
   "outputs": [
    {
     "name": "stdout",
     "output_type": "stream",
     "text": [
      "unsupported operand type(s) for /: 'int' and 'str'\n"
     ]
    }
   ],
   "source": [
    "function(\"acd\")"
   ]
  },
  {
   "cell_type": "markdown",
   "id": "63d37f1b",
   "metadata": {},
   "source": [
    "# Custome Exception Handling"
   ]
  },
  {
   "cell_type": "code",
   "execution_count": 17,
   "id": "1aaa514f",
   "metadata": {},
   "outputs": [],
   "source": [
    "class MaxNumberException(Exception):\n",
    "    pass\n",
    "class MinNumberException(Exception):\n",
    "    pass"
   ]
  },
  {
   "cell_type": "code",
   "execution_count": 21,
   "id": "3c77ad29",
   "metadata": {},
   "outputs": [],
   "source": [
    "def function(num):\n",
    "    try:\n",
    "        if num > 50:\n",
    "            raise MaxNumberException\n",
    "        if num < 10:\n",
    "            raise MinNumberException\n",
    "        return (100/num)\n",
    "    \n",
    "    except MaxNumberException as e:\n",
    "        print(\"Max Number Exceeded\")\n",
    "    except MinNumberException as e:\n",
    "        print(\"Min Number Exceeded\")\n",
    "        \n",
    "    except Exception as e:\n",
    "        print(e)"
   ]
  },
  {
   "cell_type": "code",
   "execution_count": 22,
   "id": "1f525277",
   "metadata": {},
   "outputs": [
    {
     "name": "stdout",
     "output_type": "stream",
     "text": [
      "Min Number Exceeded\n"
     ]
    }
   ],
   "source": [
    "function(5)"
   ]
  },
  {
   "cell_type": "code",
   "execution_count": 23,
   "id": "86bbbeb2",
   "metadata": {},
   "outputs": [
    {
     "name": "stdout",
     "output_type": "stream",
     "text": [
      "Max Number Exceeded\n"
     ]
    }
   ],
   "source": [
    "function(100)"
   ]
  },
  {
   "cell_type": "code",
   "execution_count": null,
   "id": "0003cf40",
   "metadata": {},
   "outputs": [],
   "source": []
  }
 ],
 "metadata": {
  "kernelspec": {
   "display_name": "Python 3",
   "language": "python",
   "name": "python3"
  },
  "language_info": {
   "codemirror_mode": {
    "name": "ipython",
    "version": 3
   },
   "file_extension": ".py",
   "mimetype": "text/x-python",
   "name": "python",
   "nbconvert_exporter": "python",
   "pygments_lexer": "ipython3",
   "version": "3.8.8"
  }
 },
 "nbformat": 4,
 "nbformat_minor": 5
}
