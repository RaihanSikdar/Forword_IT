{
 "cells": [
  {
   "cell_type": "code",
   "execution_count": 1,
   "id": "decb37da",
   "metadata": {},
   "outputs": [
    {
     "name": "stdout",
     "output_type": "stream",
     "text": [
      "Hello Data Scientist\n"
     ]
    }
   ],
   "source": [
    "print(\"Hello Data Scientist\")"
   ]
  },
  {
   "cell_type": "code",
   "execution_count": 2,
   "id": "61e340bc",
   "metadata": {},
   "outputs": [
    {
     "data": {
      "text/plain": [
       "'Hello Data Scientist'"
      ]
     },
     "execution_count": 2,
     "metadata": {},
     "output_type": "execute_result"
    }
   ],
   "source": [
    "\"Hello Data Scientist\""
   ]
  },
  {
   "cell_type": "markdown",
   "id": "10bafdc0",
   "metadata": {},
   "source": [
    "# Data Types"
   ]
  },
  {
   "cell_type": "code",
   "execution_count": 3,
   "id": "f58d197d",
   "metadata": {},
   "outputs": [],
   "source": [
    "int_data = 100\n",
    "float_data = 50.50\n",
    "char_data = \"Abcd\"\n",
    "boolean_data_True = True\n",
    "boolean_data_False = False"
   ]
  },
  {
   "cell_type": "code",
   "execution_count": 4,
   "id": "901026be",
   "metadata": {},
   "outputs": [
    {
     "data": {
      "text/plain": [
       "100"
      ]
     },
     "execution_count": 4,
     "metadata": {},
     "output_type": "execute_result"
    }
   ],
   "source": [
    "int_data"
   ]
  },
  {
   "cell_type": "code",
   "execution_count": 5,
   "id": "aec95bd8",
   "metadata": {},
   "outputs": [
    {
     "data": {
      "text/plain": [
       "(100, 50.5, 'Abcd', True, False)"
      ]
     },
     "execution_count": 5,
     "metadata": {},
     "output_type": "execute_result"
    }
   ],
   "source": [
    "int_data,float_data,char_data,boolean_data_True,boolean_data_False"
   ]
  },
  {
   "cell_type": "code",
   "execution_count": 7,
   "id": "4933677c",
   "metadata": {},
   "outputs": [
    {
     "name": "stdout",
     "output_type": "stream",
     "text": [
      "<class 'str'>\n"
     ]
    }
   ],
   "source": [
    "print(type(char_data))"
   ]
  },
  {
   "cell_type": "code",
   "execution_count": 8,
   "id": "ff8f9b8f",
   "metadata": {},
   "outputs": [
    {
     "name": "stdout",
     "output_type": "stream",
     "text": [
      "<class 'float'>\n"
     ]
    }
   ],
   "source": [
    "print(type(float_data))"
   ]
  },
  {
   "cell_type": "markdown",
   "id": "f37c42f0",
   "metadata": {},
   "source": [
    "# Variable"
   ]
  },
  {
   "cell_type": "code",
   "execution_count": 9,
   "id": "73607c88",
   "metadata": {},
   "outputs": [],
   "source": [
    "name = \"Raihan Sikdar\"\n",
    "age = 23"
   ]
  },
  {
   "cell_type": "code",
   "execution_count": 10,
   "id": "24ca480f",
   "metadata": {},
   "outputs": [
    {
     "data": {
      "text/plain": [
       "'Raihan Sikdar'"
      ]
     },
     "execution_count": 10,
     "metadata": {},
     "output_type": "execute_result"
    }
   ],
   "source": [
    "name"
   ]
  },
  {
   "cell_type": "code",
   "execution_count": 11,
   "id": "32fd2716",
   "metadata": {},
   "outputs": [
    {
     "data": {
      "text/plain": [
       "23"
      ]
     },
     "execution_count": 11,
     "metadata": {},
     "output_type": "execute_result"
    }
   ],
   "source": [
    "age"
   ]
  },
  {
   "cell_type": "code",
   "execution_count": 12,
   "id": "74cb60ab",
   "metadata": {},
   "outputs": [],
   "source": [
    "# rules -> symbols, numeric\n",
    "# @name wrong\n",
    "# 1name wrong\n",
    "# name1 write"
   ]
  },
  {
   "cell_type": "code",
   "execution_count": 13,
   "id": "adffc40a",
   "metadata": {},
   "outputs": [
    {
     "data": {
      "text/plain": [
       "2609268999984"
      ]
     },
     "execution_count": 13,
     "metadata": {},
     "output_type": "execute_result"
    }
   ],
   "source": [
    "id(name)"
   ]
  },
  {
   "cell_type": "code",
   "execution_count": 14,
   "id": "d4212dc6",
   "metadata": {},
   "outputs": [
    {
     "data": {
      "text/plain": [
       "140726708087280"
      ]
     },
     "execution_count": 14,
     "metadata": {},
     "output_type": "execute_result"
    }
   ],
   "source": [
    "id(age)"
   ]
  },
  {
   "cell_type": "markdown",
   "id": "c69b09c2",
   "metadata": {},
   "source": [
    "# Condition"
   ]
  },
  {
   "cell_type": "code",
   "execution_count": 15,
   "id": "7eba9f14",
   "metadata": {},
   "outputs": [],
   "source": [
    "# if|elif|else"
   ]
  },
  {
   "cell_type": "code",
   "execution_count": 16,
   "id": "aa417183",
   "metadata": {},
   "outputs": [],
   "source": [
    "# if condition->True:\n",
    "#     #statement\n",
    "# else condition->False:\n",
    "#     # statement\n"
   ]
  },
  {
   "cell_type": "code",
   "execution_count": 19,
   "id": "5e6893d7",
   "metadata": {},
   "outputs": [
    {
     "name": "stdout",
     "output_type": "stream",
     "text": [
      "True\n"
     ]
    }
   ],
   "source": [
    "if 100>10:\n",
    "    print(\"True\")\n",
    "else:\n",
    "    print(\"False\")"
   ]
  },
  {
   "cell_type": "code",
   "execution_count": 23,
   "id": "d4cf21d1",
   "metadata": {},
   "outputs": [
    {
     "name": "stdout",
     "output_type": "stream",
     "text": [
      "You can active your account\n"
     ]
    }
   ],
   "source": [
    "age = 18\n",
    "\n",
    "if(age>17):\n",
    "    print(\"You can active your account\")\n",
    "else:\n",
    "    print(\"You can't active your account\")"
   ]
  },
  {
   "cell_type": "code",
   "execution_count": 26,
   "id": "ab7375d9",
   "metadata": {},
   "outputs": [
    {
     "name": "stdout",
     "output_type": "stream",
     "text": [
      "You can active your account\n"
     ]
    }
   ],
   "source": [
    "#If else Ladder\n",
    "\n",
    "age = 17\n",
    "gurdian = False\n",
    "friend_name = \"Raihan\"\n",
    "\n",
    "if age>17:\n",
    "    print(\"You can active your account\")\n",
    "elif gurdian == True:\n",
    "    print(\"Gurdian Part\")\n",
    "    print(\"You can active your account\")\n",
    "elif friend_name == \"Raihan\":\n",
    "    print(\"You can active your account\")\n",
    "else:\n",
    "    print(\"You can't active your account\")"
   ]
  },
  {
   "cell_type": "code",
   "execution_count": 27,
   "id": "3e612690",
   "metadata": {},
   "outputs": [],
   "source": [
    "# arithmatic operators( ==, <=, >=, <, >, != )"
   ]
  },
  {
   "cell_type": "code",
   "execution_count": 28,
   "id": "e437d511",
   "metadata": {},
   "outputs": [
    {
     "name": "stdout",
     "output_type": "stream",
     "text": [
      "You are 18,but do you have nid\n",
      "Ok you can vote\n"
     ]
    }
   ],
   "source": [
    "# nesred condition\n",
    "nid = True\n",
    "age =18\n",
    "\n",
    "if age>=18:\n",
    "    print(\"You are 18,but do you have nid\")\n",
    "    if nid == True:\n",
    "        print(\"Ok you can vote\")\n",
    "    else:\n",
    "        print(\"Please create nid\")\n",
    "else:\n",
    "    print(\"You are under 18,so you can't give your vote\")"
   ]
  },
  {
   "cell_type": "markdown",
   "id": "c9f71ab2",
   "metadata": {},
   "source": [
    "# Loop"
   ]
  },
  {
   "cell_type": "code",
   "execution_count": 29,
   "id": "a56e1b8d",
   "metadata": {},
   "outputs": [],
   "source": [
    "# for,while"
   ]
  },
  {
   "cell_type": "code",
   "execution_count": 30,
   "id": "c85ab733",
   "metadata": {},
   "outputs": [
    {
     "name": "stdout",
     "output_type": "stream",
     "text": [
      "0\n",
      "1\n",
      "2\n",
      "3\n",
      "4\n",
      "5\n",
      "6\n",
      "7\n",
      "8\n",
      "9\n",
      "10\n",
      "11\n",
      "12\n",
      "13\n",
      "14\n"
     ]
    }
   ],
   "source": [
    "for i in range(15):\n",
    "    print(i)"
   ]
  },
  {
   "cell_type": "code",
   "execution_count": 33,
   "id": "decbd83e",
   "metadata": {},
   "outputs": [
    {
     "name": "stdout",
     "output_type": "stream",
     "text": [
      "5\n",
      "6\n",
      "7\n",
      "8\n",
      "9\n",
      "10\n",
      "11\n",
      "12\n",
      "13\n",
      "14\n"
     ]
    }
   ],
   "source": [
    "for i in range(5,15,1):\n",
    "    print(i)"
   ]
  },
  {
   "cell_type": "code",
   "execution_count": 34,
   "id": "f0f39172",
   "metadata": {},
   "outputs": [
    {
     "name": "stdout",
     "output_type": "stream",
     "text": [
      "0\n",
      "3\n",
      "6\n",
      "9\n",
      "12\n"
     ]
    }
   ],
   "source": [
    "for i in range(0,15,3):\n",
    "    print(i)"
   ]
  },
  {
   "cell_type": "code",
   "execution_count": 36,
   "id": "39b3c2fc",
   "metadata": {},
   "outputs": [
    {
     "name": "stdout",
     "output_type": "stream",
     "text": [
      "0\n",
      "1\n",
      "2\n",
      "3\n",
      "4\n",
      "5\n",
      "6\n",
      "7\n",
      "8\n",
      "9\n",
      "10\n"
     ]
    }
   ],
   "source": [
    "# while\n",
    "i = 0\n",
    "n = 10\n",
    "\n",
    "while i<=n:\n",
    "    print(i)\n",
    "    i = i+1"
   ]
  },
  {
   "cell_type": "code",
   "execution_count": null,
   "id": "7a0c7a0b",
   "metadata": {},
   "outputs": [],
   "source": []
  }
 ],
 "metadata": {
  "kernelspec": {
   "display_name": "Python 3",
   "language": "python",
   "name": "python3"
  },
  "language_info": {
   "codemirror_mode": {
    "name": "ipython",
    "version": 3
   },
   "file_extension": ".py",
   "mimetype": "text/x-python",
   "name": "python",
   "nbconvert_exporter": "python",
   "pygments_lexer": "ipython3",
   "version": "3.8.8"
  }
 },
 "nbformat": 4,
 "nbformat_minor": 5
}
